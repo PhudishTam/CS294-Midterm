{
 "cells": [
  {
   "cell_type": "markdown",
   "metadata": {},
   "source": [
    "# Question 6.3(a)"
   ]
  },
  {
   "cell_type": "code",
   "execution_count": 43,
   "metadata": {},
   "outputs": [],
   "source": [
    "import random\n",
    "import string \n",
    "import zlib\n",
    "import pandas as pd"
   ]
  },
  {
   "cell_type": "code",
   "execution_count": 53,
   "metadata": {},
   "outputs": [
    {
     "name": "stdout",
     "output_type": "stream",
     "text": [
      "    Input Length  Compression Ratio\n",
      "0              2           5.000000\n",
      "1              4           3.000000\n",
      "2              6           2.333333\n",
      "3              8           2.000000\n",
      "4             10           1.800000\n",
      "5             20           1.400000\n",
      "6             30           1.266667\n",
      "7             40           1.200000\n",
      "8             50           1.160000\n",
      "9             60           1.133333\n",
      "10            70           1.114286\n",
      "11            80           1.100000\n",
      "12            90           1.088889\n",
      "13           100           1.080000\n",
      "14           150           0.960000\n",
      "15           200           0.910000\n"
     ]
    }
   ],
   "source": [
    "def generating_random_string(length_of_string):\n",
    "    return ''.join(random.choices(string.ascii_letters + string.digits, k=length_of_string))\n",
    "def compressing_string(string_to_compress):\n",
    "    return zlib.compress(string_to_compress.encode())\n",
    "def compressing_ratio(compressed_string, original_string):\n",
    "    return len(compressed_string)/len(original_string)\n",
    "input_lengths = [2,4,6,8,10, 20, 30, 40, 50,60,70,80,90,100,150,200]\n",
    "compression_ratios = []\n",
    "for length in input_lengths:\n",
    "    input_string = generating_random_string(length)\n",
    "    compressed_string = compressing_string(input_string)\n",
    "    ratio = compressing_ratio(compressed_string, input_string)\n",
    "    compression_ratios.append(ratio)\n",
    "df = pd.DataFrame({'Input Length': input_lengths, 'Compression Ratio': compression_ratios})\n",
    "print(df)\n"
   ]
  },
  {
   "cell_type": "markdown",
   "metadata": {},
   "source": [
    "## Question 6.3(b)\n",
    "\n"
   ]
  },
  {
   "cell_type": "markdown",
   "metadata": {},
   "source": [
    "We have that as you increase the size of the length it seems like the compression ratio started to decrease. This is because we have that for a very small length of strings for example 2,4,6 there is a lot of overhead of the compression algorithm itself which therefore result to a compressed string that is larger than the original string which therefore mean that the compression ratio is more than 1. As the length of the string increases the compression algorithm has more data to work on which they can find more patterns which can lead to a better compression ratio. However, in the case of a long random string composed of ASCII letters and digits the random data has a very high entropy and high entropy data does not compressed effectively. Additionally, with the randomness there are not many repeating patterns which makes the data very hard to compress. This is why even for larger string the compression ratio does not decrease significantly and remains close to 1."
   ]
  },
  {
   "cell_type": "markdown",
   "metadata": {},
   "source": []
  }
 ],
 "metadata": {
  "kernelspec": {
   "display_name": "jupyterhub-3.1",
   "language": "python",
   "name": "python3"
  },
  "language_info": {
   "codemirror_mode": {
    "name": "ipython",
    "version": 3
   },
   "file_extension": ".py",
   "mimetype": "text/x-python",
   "name": "python",
   "nbconvert_exporter": "python",
   "pygments_lexer": "ipython3",
   "version": "3.11.3"
  }
 },
 "nbformat": 4,
 "nbformat_minor": 2
}
